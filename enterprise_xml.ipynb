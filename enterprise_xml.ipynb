{
  "nbformat": 4,
  "nbformat_minor": 0,
  "metadata": {
    "colab": {
      "provenance": []
    },
    "kernelspec": {
      "name": "python3",
      "display_name": "Python 3"
    },
    "language_info": {
      "name": "python"
    }
  },
  "cells": [
    {
      "cell_type": "code",
      "execution_count": null,
      "metadata": {
        "id": "luGPll95azpA"
      },
      "outputs": [],
      "source": [
        "import xml.etree.ElementTree as ET"
      ]
    },
    {
      "cell_type": "code",
      "source": [
        "from posixpath import splitdrive"
      ],
      "metadata": {
        "id": "yM0Wbhnjct6S"
      },
      "execution_count": null,
      "outputs": []
    },
    {
      "cell_type": "code",
      "source": [
        "def format_xml(xml_file):\n",
        "\n",
        "  #lendo xml\n",
        "  tree = ET.parse(xml_file)\n",
        "  root = tree.getroot()\n",
        "\n",
        "  #deletando\n",
        "  for i in root:\n",
        "    if i != 'XMI.extensions' and i != 'XML.content':\n",
        "      root.remove(i)\n",
        "\n",
        "  # armazenando nome do caso de uso\n",
        "  nome_caso_uso = []\n",
        "  rotulo = []\n",
        "\n",
        "  ns = {'UML': 'omg.org/UML1.3'}\n",
        "  for i in root.findall('.//UML:UseCase',ns):\n",
        "    name = i.attrib.get('name')\n",
        "    id = i.attrib.get('xmi.id')\n",
        "    rotulo.append(id)\n",
        "    rotulo.append(name)\n",
        "    nome_caso_uso.append(rotulo)\n",
        "    rotulo = []\n",
        "\n",
        "  # Separando em fluxo alternativo, fluxo principal com seu ID relacionado\n",
        "  # senario principal\n",
        "  sp = []\n",
        "  k = 0\n",
        "  for i in root.findall('.//EAScenario', ns):\n",
        "      tipo = i.attrib.get('type')\n",
        "      subject = i.attrib.get('subject')\n",
        "      if(tipo == 'Basic Path'):\n",
        "        a = []\n",
        "        a.append(subject)\n",
        "        a.append(nome_caso_uso[k][1])\n",
        "        k = k + 1\n",
        "        for j in i.findall('.//step', ns):\n",
        "          a.append(j.attrib.get('name'))\n",
        "        sp.append(a)\n",
        "\n",
        "  #senario alternativa\n",
        "  sa = []\n",
        "  for i in root.findall('.//EAScenario', ns):\n",
        "      tipo = i.attrib.get('type')\n",
        "      subject = i.attrib.get('subject')\n",
        "      if(tipo == 'Alternate'):\n",
        "        a = []\n",
        "        a.append(subject)\n",
        "        a.append(i.attrib.get('name'))\n",
        "        for j in i.findall('.//step', ns):\n",
        "          a.append(j.attrib.get('name'))\n",
        "        sa.append(a)\n",
        "\n",
        "\n",
        "  #agrupando as listas de senario princiapl e alternativa\n",
        "  agrupado = {}\n",
        "  id_nome = {}\n",
        "\n",
        "  for item in sp:\n",
        "      id_caso = item[0]\n",
        "      nome_caso = item[1]\n",
        "      passos = item[2:]\n",
        "\n",
        "      id_nome[id_caso] = nome_caso\n",
        "\n",
        "      agrupado[nome_caso] = {\n",
        "          'Senario principal': passos,\n",
        "          'Senario alternativo': []\n",
        "      }\n",
        "\n",
        "\n",
        "  for item in sa:\n",
        "      id_caso = item[0]\n",
        "      passos = item[1:]\n",
        "\n",
        "      nome_caso = id_nome.get(id_caso)\n",
        "      if nome_caso:\n",
        "          agrupado[nome_caso]['Senario alternativo'].append(passos)\n",
        "\n",
        "  #montando arquivo xml\n",
        "  root = ET.Element(\"root\")\n",
        "  counter1 = 0\n",
        "  counter2 = 0\n",
        "\n",
        "  for i in agrupado:\n",
        "    child1 = ET.SubElement(root, \"use_case\")\n",
        "    child1.set('id',str(counter1))\n",
        "    child1.text = str(i)\n",
        "    counter1 += 1\n",
        "\n",
        "    child2 = ET.SubElement(child1, \"main_flow\")\n",
        "\n",
        "    lista_sp = agrupado[i]['Senario principal']\n",
        "    lista_al = agrupado[i]['Senario alternativo']\n",
        "\n",
        "    for j in lista_sp:\n",
        "      child3 = ET.SubElement(child2, \"phase\")\n",
        "      child3.text = str(j)\n",
        "      child3.set('id',str(counter2))\n",
        "      counter2 += 1\n",
        "\n",
        "    counter2 = 0\n",
        "  # Adicionando fluxo alternativa\n",
        "    counter3 = 0\n",
        "    for j in lista_al:\n",
        "      counter = 0\n",
        "      counter4 = 0\n",
        "      child4 = ET.SubElement(child1, \"alternative_flow\")\n",
        "      child4.set('id',str(counter3))\n",
        "      counter3 += 1\n",
        "      for k in j:\n",
        "        child4.text = str(j[0])\n",
        "        if counter == 0:\n",
        "          counter += 1\n",
        "        elif counter != 0:\n",
        "          child5 = ET.SubElement(child4, \"flow\")\n",
        "          child5.text = str(k)\n",
        "          child5.set('id',str(counter4))\n",
        "          counter4 += 1\n",
        "\n",
        "  tree = ET.ElementTree(root)\n",
        "  tree.write(\"arquivo.xml\", encoding='ISO-8859-1', xml_declaration=True)"
      ],
      "metadata": {
        "id": "nGQjQELda90F"
      },
      "execution_count": null,
      "outputs": []
    },
    {
      "cell_type": "code",
      "source": [
        "format_xml('exemplo.xml')"
      ],
      "metadata": {
        "id": "dh636Mu-e78s"
      },
      "execution_count": null,
      "outputs": []
    }
  ]
}