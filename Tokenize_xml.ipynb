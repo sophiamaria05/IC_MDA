{
  "cells": [
    {
      "cell_type": "markdown",
      "metadata": {
        "id": "view-in-github",
        "colab_type": "text"
      },
      "source": [
        "<a href=\"https://colab.research.google.com/github/sophiamaria05/IC_MDA/blob/main/Tokenize_xml.ipynb\" target=\"_parent\"><img src=\"https://colab.research.google.com/assets/colab-badge.svg\" alt=\"Open In Colab\"/></a>"
      ]
    },
    {
      "cell_type": "markdown",
      "source": [
        "##Importing the libraries and installing dependancies"
      ],
      "metadata": {
        "id": "ioyYidHfKlOa"
      }
    },
    {
      "cell_type": "code",
      "source": [
        "import os\n",
        "\n",
        "if os.environ.get(\"TOKENIZE_PIP_ALREADY_RUN\") != \"1\":\n",
        "  print(\"\\n\\nRunning Pip commands...\\n\\n\")\n",
        "\n",
        "  import subprocess\n",
        "  import sys\n",
        "\n",
        "  subprocess.check_call([sys.executable, \"-m\", \"pip\", \"install\", \"-U\", \"h5py\"])\n",
        "  subprocess.check_call([sys.executable, \"-m\", \"pip\", \"install\", \"typing-extensions\"])\n",
        "  subprocess.check_call([sys.executable, \"-m\", \"pip\", \"install\", \"wheel\"])\n",
        "  subprocess.check_call([sys.executable, \"-m\", \"pip\", \"install\", \"-U\", \"spacy\"])\n",
        "  subprocess.check_call([sys.executable, \"-m\", \"spacy\", \"download\", \"pt_core_news_lg\"])\n",
        "  os.environ[\"TOKENIZE_PIP_ALREADY_RUN\"] = \"1\"\n",
        "else:\n",
        "    print(\"\\n\\nPip commands were already executed!\\n\\n\")\n",
        "\n",
        "# !pip install h5py\n",
        "# !pip install typing-extensions\n",
        "# !pip install wheel\n",
        "# !pip install -U spacy\n",
        "# !python -m spacy download pt_core_news_lg"
      ],
      "metadata": {
        "colab": {
          "base_uri": "https://localhost:8080/"
        },
        "collapsed": true,
        "id": "dApDmh5nxF7V",
        "outputId": "186e8e13-5e86-43e3-86a3-15e0b98312b3"
      },
      "execution_count": 1,
      "outputs": [
        {
          "output_type": "stream",
          "name": "stdout",
          "text": [
            "\n",
            "\n",
            "Running Pip commands...\n",
            "\n",
            "\n"
          ]
        }
      ]
    },
    {
      "cell_type": "code",
      "execution_count": 2,
      "metadata": {
        "id": "bNHJPqLkPrId"
      },
      "outputs": [],
      "source": [
        "import xml.etree.ElementTree as ET\n",
        "from xml.dom.minidom import parseString"
      ]
    },
    {
      "cell_type": "code",
      "source": [
        "import spacy\n",
        "nlp = spacy.load(\"pt_core_news_lg\")"
      ],
      "metadata": {
        "id": "HBb7a6ovxP-r"
      },
      "execution_count": 3,
      "outputs": []
    },
    {
      "cell_type": "code",
      "source": [
        "from spacy import displacy"
      ],
      "metadata": {
        "id": "O1Gt95VkRUjI"
      },
      "execution_count": 4,
      "outputs": []
    },
    {
      "cell_type": "markdown",
      "source": [
        "##Defining the functions"
      ],
      "metadata": {
        "id": "GFHfT0WyK5yx"
      }
    },
    {
      "cell_type": "code",
      "source": [
        "def count_nmod(dep):\n",
        "  nmod = 0\n",
        "  for i in range(0, len(dep)):\n",
        "    if dep[i]==\"nmod\":\n",
        "      nmod+=1\n",
        "  return nmod"
      ],
      "metadata": {
        "id": "fKfmSOIZOShG"
      },
      "execution_count": 5,
      "outputs": []
    },
    {
      "cell_type": "code",
      "source": [
        "def tokenize_phrase(phrase):\n",
        "  doc = nlp(phrase.text)\n",
        "  text = [i.lemma_ for i in doc]\n",
        "  pos = [i.pos_ for i in doc]\n",
        "  dep = [i.dep_ for i in doc]\n",
        "\n",
        "  try:\n",
        "    text[pos.index(\"NOUN\")]\n",
        "  except Exception as e:\n",
        "    print('\\nThe phrase \"'+ phrase.text +'\"\\'s NOUN was not found')\n",
        "    phrase.set('type', '0')\n",
        "    displacy.render(doc, style=\"dep\", jupyter=True)\n",
        "    return False\n",
        "  try:\n",
        "    text[dep.index(\"ROOT\")]\n",
        "  except Exception as e:\n",
        "    print('\\nThe phrase \"'+ phrase.text +'\"\\'s VERB was not found')\n",
        "    phrase.set('type', '0')\n",
        "    displacy.render(doc, style=\"dep\", jupyter=True)\n",
        "    return False\n",
        "  try:\n",
        "    text[dep.index(\"obj\")]\n",
        "  except Exception as e:\n",
        "    print('\\nThe phrase \"'+ phrase.text +'\"\\'s OBJECT was not found')\n",
        "    phrase.set('type', '0')\n",
        "    displacy.render(doc, style=\"dep\", jupyter=True)\n",
        "    return False\n",
        "\n",
        "  ET.SubElement(phrase, \"noun\").text = text[pos.index(\"NOUN\")].title()\n",
        "  ET.SubElement(phrase, \"verb\").text = text[dep.index(\"ROOT\")].title()\n",
        "  ET.SubElement(phrase, \"object\").text = text[dep.index(\"obj\")].title()\n",
        "\n",
        "  nmod_amount = count_nmod(dep)\n",
        "  if nmod_amount>=1:\n",
        "    ET.SubElement(phrase, \"complement\").text = text[dep.index(\"nmod\")].title()\n",
        "  if nmod_amount==2:\n",
        "    ET.SubElement(phrase, \"complement_n\").text = text[dep.index(\"nmod\", dep.index(\"nmod\")+1)].title()\n",
        "\n",
        "  return True"
      ],
      "metadata": {
        "id": "XEBTqhyjORjn"
      },
      "execution_count": 6,
      "outputs": []
    },
    {
      "cell_type": "code",
      "source": [
        "def get_xml_files(xml_file_folder):\n",
        "  \"\"\"\n",
        "    Gets the folder path where the xml file with predicted phrases.\n",
        "    Returns a List[xml_files].\n",
        "  \"\"\"\n",
        "  return [file for file in os.listdir(xml_file_folder) if file.endswith('.xml')]"
      ],
      "metadata": {
        "id": "23Z5ZT_nOFtU"
      },
      "execution_count": 7,
      "outputs": []
    },
    {
      "cell_type": "code",
      "source": [
        "def tokenize(file_path, write_name):\n",
        "  xml = ET.parse(file_path, parser=ET.XMLParser(encoding='utf-8'))\n",
        "  xml_fix = ET.tostring(xml.getroot(), encoding='utf-8').decode('utf-8')#.replace('�', 'a')\n",
        "  root = ET.fromstring(xml_fix)\n",
        "  xml_string = parseString(xml_fix)\n",
        "  #print(xml_string.toprettyxml(indent='\\t', newl='\\n'))\n",
        "\n",
        "  for use_case in root:\n",
        "    for flow in use_case:\n",
        "      for phrase in flow:\n",
        "        tokenize_phrase(phrase)\n",
        "\n",
        "  tree = ET.ElementTree(root)\n",
        "  tree.write(write_name)\n",
        "  print(\">>\", file_path, \"<< TOKENIZED AND SAVED ON >>\", write_name, \"<<\")\n",
        "  print(parseString(ET.tostring(tree.getroot())).toprettyxml(indent='\\t', newl='\\n'))"
      ],
      "metadata": {
        "id": "yOxTTHSKNabk"
      },
      "execution_count": 8,
      "outputs": []
    },
    {
      "cell_type": "markdown",
      "source": [
        "##Runing the tokenization"
      ],
      "metadata": {
        "id": "LpKmAmt3K0Bs"
      }
    },
    {
      "cell_type": "code",
      "source": [
        "folder = os.environ.get(\"TO_BE_TOKENIZED_DIR\")\n",
        "if folder == None or folder == \"\":\n",
        "  folder = \"/content/\"\n",
        "\n",
        "save_folder = os.environ.get(\"TOKENIZED_XML_DIR\")\n",
        "if save_folder == None or save_folder == \"\":\n",
        "  save_folder = \"/content/tokenized/\"\n",
        "os.makedirs(save_folder, exist_ok=True)\n",
        "\n",
        "files = get_xml_files(folder)\n",
        "for file_name in files:\n",
        "  tokenize(folder+\"/\"+file_name, save_folder+\"tokenized_phrases (\"+file_name.split('.', 1)[0]+\").xml\")"
      ],
      "metadata": {
        "colab": {
          "base_uri": "https://localhost:8080/",
          "height": 1000
        },
        "id": "fMAzM-RZy3e0",
        "outputId": "20c143ce-0ea3-415f-fe16-6345718730f7"
      },
      "execution_count": 9,
      "outputs": [
        {
          "output_type": "stream",
          "name": "stdout",
          "text": [
            "\n",
            "The phrase \"Sistema informa ...\"'s OBJECT was not found\n"
          ]
        },
        {
          "output_type": "display_data",
          "data": {
            "text/plain": [
              "<IPython.core.display.HTML object>"
            ],
            "text/html": [
              "<span class=\"tex2jax_ignore\"><svg xmlns=\"http://www.w3.org/2000/svg\" xmlns:xlink=\"http://www.w3.org/1999/xlink\" xml:lang=\"pt\" id=\"6ed9d124cef14c1f89e19b98dc42c8af-0\" class=\"displacy\" width=\"400\" height=\"224.5\" direction=\"ltr\" style=\"max-width: none; height: 224.5px; color: #000000; background: #ffffff; font-family: Arial; direction: ltr\">\n",
              "<text class=\"displacy-token\" fill=\"currentColor\" text-anchor=\"middle\" y=\"134.5\">\n",
              "    <tspan class=\"displacy-word\" fill=\"currentColor\" x=\"50\">Sistema</tspan>\n",
              "    <tspan class=\"displacy-tag\" dy=\"2em\" fill=\"currentColor\" x=\"50\">NOUN</tspan>\n",
              "</text>\n",
              "\n",
              "<text class=\"displacy-token\" fill=\"currentColor\" text-anchor=\"middle\" y=\"134.5\">\n",
              "    <tspan class=\"displacy-word\" fill=\"currentColor\" x=\"225\">informa ...</tspan>\n",
              "    <tspan class=\"displacy-tag\" dy=\"2em\" fill=\"currentColor\" x=\"225\">VERB</tspan>\n",
              "</text>\n",
              "\n",
              "<g class=\"displacy-arrow\">\n",
              "    <path class=\"displacy-arc\" id=\"arrow-6ed9d124cef14c1f89e19b98dc42c8af-0-0\" stroke-width=\"2px\" d=\"M70,89.5 C70,2.0 225.0,2.0 225.0,89.5\" fill=\"none\" stroke=\"currentColor\"/>\n",
              "    <text dy=\"1.25em\" style=\"font-size: 0.8em; letter-spacing: 1px\">\n",
              "        <textPath xlink:href=\"#arrow-6ed9d124cef14c1f89e19b98dc42c8af-0-0\" class=\"displacy-label\" startOffset=\"50%\" side=\"left\" fill=\"currentColor\" text-anchor=\"middle\">nsubj</textPath>\n",
              "    </text>\n",
              "    <path class=\"displacy-arrowhead\" d=\"M70,91.5 L62,79.5 78,79.5\" fill=\"currentColor\"/>\n",
              "</g>\n",
              "</svg></span>"
            ]
          },
          "metadata": {}
        },
        {
          "output_type": "stream",
          "name": "stdout",
          "text": [
            "\n",
            "The phrase \"Sistema lista cliente\"'s OBJECT was not found\n"
          ]
        },
        {
          "output_type": "display_data",
          "data": {
            "text/plain": [
              "<IPython.core.display.HTML object>"
            ],
            "text/html": [
              "<span class=\"tex2jax_ignore\"><svg xmlns=\"http://www.w3.org/2000/svg\" xmlns:xlink=\"http://www.w3.org/1999/xlink\" xml:lang=\"pt\" id=\"ab63ca9941cd41adbac28da21043a99e-0\" class=\"displacy\" width=\"575\" height=\"224.5\" direction=\"ltr\" style=\"max-width: none; height: 224.5px; color: #000000; background: #ffffff; font-family: Arial; direction: ltr\">\n",
              "<text class=\"displacy-token\" fill=\"currentColor\" text-anchor=\"middle\" y=\"134.5\">\n",
              "    <tspan class=\"displacy-word\" fill=\"currentColor\" x=\"50\">Sistema</tspan>\n",
              "    <tspan class=\"displacy-tag\" dy=\"2em\" fill=\"currentColor\" x=\"50\">NOUN</tspan>\n",
              "</text>\n",
              "\n",
              "<text class=\"displacy-token\" fill=\"currentColor\" text-anchor=\"middle\" y=\"134.5\">\n",
              "    <tspan class=\"displacy-word\" fill=\"currentColor\" x=\"225\">lista</tspan>\n",
              "    <tspan class=\"displacy-tag\" dy=\"2em\" fill=\"currentColor\" x=\"225\">VERB</tspan>\n",
              "</text>\n",
              "\n",
              "<text class=\"displacy-token\" fill=\"currentColor\" text-anchor=\"middle\" y=\"134.5\">\n",
              "    <tspan class=\"displacy-word\" fill=\"currentColor\" x=\"400\">cliente</tspan>\n",
              "    <tspan class=\"displacy-tag\" dy=\"2em\" fill=\"currentColor\" x=\"400\">NOUN</tspan>\n",
              "</text>\n",
              "\n",
              "<g class=\"displacy-arrow\">\n",
              "    <path class=\"displacy-arc\" id=\"arrow-ab63ca9941cd41adbac28da21043a99e-0-0\" stroke-width=\"2px\" d=\"M70,89.5 C70,2.0 225.0,2.0 225.0,89.5\" fill=\"none\" stroke=\"currentColor\"/>\n",
              "    <text dy=\"1.25em\" style=\"font-size: 0.8em; letter-spacing: 1px\">\n",
              "        <textPath xlink:href=\"#arrow-ab63ca9941cd41adbac28da21043a99e-0-0\" class=\"displacy-label\" startOffset=\"50%\" side=\"left\" fill=\"currentColor\" text-anchor=\"middle\">nsubj</textPath>\n",
              "    </text>\n",
              "    <path class=\"displacy-arrowhead\" d=\"M70,91.5 L62,79.5 78,79.5\" fill=\"currentColor\"/>\n",
              "</g>\n",
              "</svg></span>"
            ]
          },
          "metadata": {}
        },
        {
          "output_type": "stream",
          "name": "stdout",
          "text": [
            "\n",
            "The phrase \"Usu�rio clica salvar\"'s NOUN was not found\n"
          ]
        },
        {
          "output_type": "display_data",
          "data": {
            "text/plain": [
              "<IPython.core.display.HTML object>"
            ],
            "text/html": [
              "<span class=\"tex2jax_ignore\"><svg xmlns=\"http://www.w3.org/2000/svg\" xmlns:xlink=\"http://www.w3.org/1999/xlink\" xml:lang=\"pt\" id=\"60c2ab86ffb641369bb43f35aa47ea1c-0\" class=\"displacy\" width=\"925\" height=\"399.5\" direction=\"ltr\" style=\"max-width: none; height: 399.5px; color: #000000; background: #ffffff; font-family: Arial; direction: ltr\">\n",
              "<text class=\"displacy-token\" fill=\"currentColor\" text-anchor=\"middle\" y=\"309.5\">\n",
              "    <tspan class=\"displacy-word\" fill=\"currentColor\" x=\"50\">Usu</tspan>\n",
              "    <tspan class=\"displacy-tag\" dy=\"2em\" fill=\"currentColor\" x=\"50\">PROPN</tspan>\n",
              "</text>\n",
              "\n",
              "<text class=\"displacy-token\" fill=\"currentColor\" text-anchor=\"middle\" y=\"309.5\">\n",
              "    <tspan class=\"displacy-word\" fill=\"currentColor\" x=\"225\">�</tspan>\n",
              "    <tspan class=\"displacy-tag\" dy=\"2em\" fill=\"currentColor\" x=\"225\">PROPN</tspan>\n",
              "</text>\n",
              "\n",
              "<text class=\"displacy-token\" fill=\"currentColor\" text-anchor=\"middle\" y=\"309.5\">\n",
              "    <tspan class=\"displacy-word\" fill=\"currentColor\" x=\"400\">rio</tspan>\n",
              "    <tspan class=\"displacy-tag\" dy=\"2em\" fill=\"currentColor\" x=\"400\">PROPN</tspan>\n",
              "</text>\n",
              "\n",
              "<text class=\"displacy-token\" fill=\"currentColor\" text-anchor=\"middle\" y=\"309.5\">\n",
              "    <tspan class=\"displacy-word\" fill=\"currentColor\" x=\"575\">clica</tspan>\n",
              "    <tspan class=\"displacy-tag\" dy=\"2em\" fill=\"currentColor\" x=\"575\">VERB</tspan>\n",
              "</text>\n",
              "\n",
              "<text class=\"displacy-token\" fill=\"currentColor\" text-anchor=\"middle\" y=\"309.5\">\n",
              "    <tspan class=\"displacy-word\" fill=\"currentColor\" x=\"750\">salvar</tspan>\n",
              "    <tspan class=\"displacy-tag\" dy=\"2em\" fill=\"currentColor\" x=\"750\">VERB</tspan>\n",
              "</text>\n",
              "\n",
              "<g class=\"displacy-arrow\">\n",
              "    <path class=\"displacy-arc\" id=\"arrow-60c2ab86ffb641369bb43f35aa47ea1c-0-0\" stroke-width=\"2px\" d=\"M70,264.5 C70,2.0 575.0,2.0 575.0,264.5\" fill=\"none\" stroke=\"currentColor\"/>\n",
              "    <text dy=\"1.25em\" style=\"font-size: 0.8em; letter-spacing: 1px\">\n",
              "        <textPath xlink:href=\"#arrow-60c2ab86ffb641369bb43f35aa47ea1c-0-0\" class=\"displacy-label\" startOffset=\"50%\" side=\"left\" fill=\"currentColor\" text-anchor=\"middle\">nsubj</textPath>\n",
              "    </text>\n",
              "    <path class=\"displacy-arrowhead\" d=\"M70,266.5 L62,254.5 78,254.5\" fill=\"currentColor\"/>\n",
              "</g>\n",
              "\n",
              "<g class=\"displacy-arrow\">\n",
              "    <path class=\"displacy-arc\" id=\"arrow-60c2ab86ffb641369bb43f35aa47ea1c-0-1\" stroke-width=\"2px\" d=\"M70,264.5 C70,177.0 215.0,177.0 215.0,264.5\" fill=\"none\" stroke=\"currentColor\"/>\n",
              "    <text dy=\"1.25em\" style=\"font-size: 0.8em; letter-spacing: 1px\">\n",
              "        <textPath xlink:href=\"#arrow-60c2ab86ffb641369bb43f35aa47ea1c-0-1\" class=\"displacy-label\" startOffset=\"50%\" side=\"left\" fill=\"currentColor\" text-anchor=\"middle\">flat:name</textPath>\n",
              "    </text>\n",
              "    <path class=\"displacy-arrowhead\" d=\"M215.0,266.5 L223.0,254.5 207.0,254.5\" fill=\"currentColor\"/>\n",
              "</g>\n",
              "\n",
              "<g class=\"displacy-arrow\">\n",
              "    <path class=\"displacy-arc\" id=\"arrow-60c2ab86ffb641369bb43f35aa47ea1c-0-2\" stroke-width=\"2px\" d=\"M70,264.5 C70,89.5 395.0,89.5 395.0,264.5\" fill=\"none\" stroke=\"currentColor\"/>\n",
              "    <text dy=\"1.25em\" style=\"font-size: 0.8em; letter-spacing: 1px\">\n",
              "        <textPath xlink:href=\"#arrow-60c2ab86ffb641369bb43f35aa47ea1c-0-2\" class=\"displacy-label\" startOffset=\"50%\" side=\"left\" fill=\"currentColor\" text-anchor=\"middle\">flat:name</textPath>\n",
              "    </text>\n",
              "    <path class=\"displacy-arrowhead\" d=\"M395.0,266.5 L403.0,254.5 387.0,254.5\" fill=\"currentColor\"/>\n",
              "</g>\n",
              "\n",
              "<g class=\"displacy-arrow\">\n",
              "    <path class=\"displacy-arc\" id=\"arrow-60c2ab86ffb641369bb43f35aa47ea1c-0-3\" stroke-width=\"2px\" d=\"M595,264.5 C595,177.0 740.0,177.0 740.0,264.5\" fill=\"none\" stroke=\"currentColor\"/>\n",
              "    <text dy=\"1.25em\" style=\"font-size: 0.8em; letter-spacing: 1px\">\n",
              "        <textPath xlink:href=\"#arrow-60c2ab86ffb641369bb43f35aa47ea1c-0-3\" class=\"displacy-label\" startOffset=\"50%\" side=\"left\" fill=\"currentColor\" text-anchor=\"middle\">xcomp</textPath>\n",
              "    </text>\n",
              "    <path class=\"displacy-arrowhead\" d=\"M740.0,266.5 L748.0,254.5 732.0,254.5\" fill=\"currentColor\"/>\n",
              "</g>\n",
              "</svg></span>"
            ]
          },
          "metadata": {}
        },
        {
          "output_type": "stream",
          "name": "stdout",
          "text": [
            "\n",
            "The phrase \"Sistema cansela o processo\"'s OBJECT was not found\n"
          ]
        },
        {
          "output_type": "display_data",
          "data": {
            "text/plain": [
              "<IPython.core.display.HTML object>"
            ],
            "text/html": [
              "<span class=\"tex2jax_ignore\"><svg xmlns=\"http://www.w3.org/2000/svg\" xmlns:xlink=\"http://www.w3.org/1999/xlink\" xml:lang=\"pt\" id=\"9e988e2e397147c194fc8485d6497f7f-0\" class=\"displacy\" width=\"750\" height=\"312.0\" direction=\"ltr\" style=\"max-width: none; height: 312.0px; color: #000000; background: #ffffff; font-family: Arial; direction: ltr\">\n",
              "<text class=\"displacy-token\" fill=\"currentColor\" text-anchor=\"middle\" y=\"222.0\">\n",
              "    <tspan class=\"displacy-word\" fill=\"currentColor\" x=\"50\">Sistema</tspan>\n",
              "    <tspan class=\"displacy-tag\" dy=\"2em\" fill=\"currentColor\" x=\"50\">NOUN</tspan>\n",
              "</text>\n",
              "\n",
              "<text class=\"displacy-token\" fill=\"currentColor\" text-anchor=\"middle\" y=\"222.0\">\n",
              "    <tspan class=\"displacy-word\" fill=\"currentColor\" x=\"225\">cansela</tspan>\n",
              "    <tspan class=\"displacy-tag\" dy=\"2em\" fill=\"currentColor\" x=\"225\">PROPN</tspan>\n",
              "</text>\n",
              "\n",
              "<text class=\"displacy-token\" fill=\"currentColor\" text-anchor=\"middle\" y=\"222.0\">\n",
              "    <tspan class=\"displacy-word\" fill=\"currentColor\" x=\"400\">o</tspan>\n",
              "    <tspan class=\"displacy-tag\" dy=\"2em\" fill=\"currentColor\" x=\"400\">DET</tspan>\n",
              "</text>\n",
              "\n",
              "<text class=\"displacy-token\" fill=\"currentColor\" text-anchor=\"middle\" y=\"222.0\">\n",
              "    <tspan class=\"displacy-word\" fill=\"currentColor\" x=\"575\">processo</tspan>\n",
              "    <tspan class=\"displacy-tag\" dy=\"2em\" fill=\"currentColor\" x=\"575\">NOUN</tspan>\n",
              "</text>\n",
              "\n",
              "<g class=\"displacy-arrow\">\n",
              "    <path class=\"displacy-arc\" id=\"arrow-9e988e2e397147c194fc8485d6497f7f-0-0\" stroke-width=\"2px\" d=\"M70,177.0 C70,89.5 220.0,89.5 220.0,177.0\" fill=\"none\" stroke=\"currentColor\"/>\n",
              "    <text dy=\"1.25em\" style=\"font-size: 0.8em; letter-spacing: 1px\">\n",
              "        <textPath xlink:href=\"#arrow-9e988e2e397147c194fc8485d6497f7f-0-0\" class=\"displacy-label\" startOffset=\"50%\" side=\"left\" fill=\"currentColor\" text-anchor=\"middle\">amod</textPath>\n",
              "    </text>\n",
              "    <path class=\"displacy-arrowhead\" d=\"M220.0,179.0 L228.0,167.0 212.0,167.0\" fill=\"currentColor\"/>\n",
              "</g>\n",
              "\n",
              "<g class=\"displacy-arrow\">\n",
              "    <path class=\"displacy-arc\" id=\"arrow-9e988e2e397147c194fc8485d6497f7f-0-1\" stroke-width=\"2px\" d=\"M420,177.0 C420,89.5 570.0,89.5 570.0,177.0\" fill=\"none\" stroke=\"currentColor\"/>\n",
              "    <text dy=\"1.25em\" style=\"font-size: 0.8em; letter-spacing: 1px\">\n",
              "        <textPath xlink:href=\"#arrow-9e988e2e397147c194fc8485d6497f7f-0-1\" class=\"displacy-label\" startOffset=\"50%\" side=\"left\" fill=\"currentColor\" text-anchor=\"middle\">det</textPath>\n",
              "    </text>\n",
              "    <path class=\"displacy-arrowhead\" d=\"M420,179.0 L412,167.0 428,167.0\" fill=\"currentColor\"/>\n",
              "</g>\n",
              "\n",
              "<g class=\"displacy-arrow\">\n",
              "    <path class=\"displacy-arc\" id=\"arrow-9e988e2e397147c194fc8485d6497f7f-0-2\" stroke-width=\"2px\" d=\"M70,177.0 C70,2.0 575.0,2.0 575.0,177.0\" fill=\"none\" stroke=\"currentColor\"/>\n",
              "    <text dy=\"1.25em\" style=\"font-size: 0.8em; letter-spacing: 1px\">\n",
              "        <textPath xlink:href=\"#arrow-9e988e2e397147c194fc8485d6497f7f-0-2\" class=\"displacy-label\" startOffset=\"50%\" side=\"left\" fill=\"currentColor\" text-anchor=\"middle\">nsubj</textPath>\n",
              "    </text>\n",
              "    <path class=\"displacy-arrowhead\" d=\"M575.0,179.0 L583.0,167.0 567.0,167.0\" fill=\"currentColor\"/>\n",
              "</g>\n",
              "</svg></span>"
            ]
          },
          "metadata": {}
        },
        {
          "output_type": "stream",
          "name": "stdout",
          "text": [
            ">> /content//arquivo (3).xml << TOKENIZED AND SAVED ON >> /content/tokenized/tokenized_phrases (arquivo (3)).xml <<\n",
            "<?xml version=\"1.0\" ?>\n",
            "<root>\n",
            "\t<use_case id=\"0\">\n",
            "\t\tVizualizar Cliente\n",
            "\t\t<main_flow>\n",
            "\t\t\t<phase id=\"0\">\n",
            "\t\t\t\tSistema exibe clientes\n",
            "\t\t\t\t<noun>Sistema</noun>\n",
            "\t\t\t\t<verb>Exibir</verb>\n",
            "\t\t\t\t<object>Cliente</object>\n",
            "\t\t\t</phase>\n",
            "\t\t\t<phase id=\"1\">\n",
            "\t\t\t\tUsu�rio seleciona cliente\n",
            "\t\t\t\t<noun>Cliente</noun>\n",
            "\t\t\t\t<verb>Selecionar</verb>\n",
            "\t\t\t\t<object>Cliente</object>\n",
            "\t\t\t</phase>\n",
            "\t\t</main_flow>\n",
            "\t\t<alternative_flow id=\"0\">\n",
            "\t\t\tUsu�rio n�o existente\n",
            "\t\t\t<flow id=\"0\" type=\"0\">Sistema informa ...</flow>\n",
            "\t\t</alternative_flow>\n",
            "\t</use_case>\n",
            "\t<use_case id=\"1\">\n",
            "\t\tCadastrar Cliente\n",
            "\t\t<main_flow>\n",
            "\t\t\t<phase id=\"0\" type=\"0\">Sistema lista cliente</phase>\n",
            "\t\t\t<phase id=\"1\">\n",
            "\t\t\t\tUsu�rio seleciona cliente\n",
            "\t\t\t\t<noun>Cliente</noun>\n",
            "\t\t\t\t<verb>Selecionar</verb>\n",
            "\t\t\t\t<object>Cliente</object>\n",
            "\t\t\t</phase>\n",
            "\t\t\t<phase id=\"2\">\n",
            "\t\t\t\tUsu�rio insere nome, endere�o e telefone\n",
            "\t\t\t\t<noun>Nome</noun>\n",
            "\t\t\t\t<verb>Inserir</verb>\n",
            "\t\t\t\t<object>Nome</object>\n",
            "\t\t\t</phase>\n",
            "\t\t\t<phase id=\"3\" type=\"0\">Usu�rio clica salvar</phase>\n",
            "\t\t\t<phase id=\"4\">\n",
            "\t\t\t\tSistema verifica existencia do cliente\n",
            "\t\t\t\t<noun>Sistema</noun>\n",
            "\t\t\t\t<verb>Verificar</verb>\n",
            "\t\t\t\t<object>Existencia</object>\n",
            "\t\t\t\t<complement>Cliente</complement>\n",
            "\t\t\t</phase>\n",
            "\t\t\t<phase id=\"5\">\n",
            "\t\t\t\tSIstema salva cliente\n",
            "\t\t\t\t<noun>Sistema</noun>\n",
            "\t\t\t\t<verb>Salvar</verb>\n",
            "\t\t\t\t<object>Cliente</object>\n",
            "\t\t\t</phase>\n",
            "\t\t</main_flow>\n",
            "\t\t<alternative_flow id=\"0\">\n",
            "\t\t\tErro ao salvar\n",
            "\t\t\t<flow id=\"0\">\n",
            "\t\t\t\tSistema informa o erro\n",
            "\t\t\t\t<noun>Sistema</noun>\n",
            "\t\t\t\t<verb>Informar</verb>\n",
            "\t\t\t\t<object>Erro</object>\n",
            "\t\t\t</flow>\n",
            "\t\t\t<flow id=\"1\" type=\"0\">Sistema cansela o processo</flow>\n",
            "\t\t</alternative_flow>\n",
            "\t\t<alternative_flow id=\"1\">\n",
            "\t\t\tUsu�rio j� existente\n",
            "\t\t\t<flow id=\"0\">\n",
            "\t\t\t\tSistema informa us�rio j� existente\n",
            "\t\t\t\t<noun>Sistema</noun>\n",
            "\t\t\t\t<verb>Informar</verb>\n",
            "\t\t\t\t<object>Us</object>\n",
            "\t\t\t</flow>\n",
            "\t\t</alternative_flow>\n",
            "\t</use_case>\n",
            "</root>\n",
            "\n"
          ]
        }
      ]
    }
  ],
  "metadata": {
    "colab": {
      "provenance": [],
      "authorship_tag": "ABX9TyMtkDzJjBdhAO0U78L/Nnpc",
      "include_colab_link": true
    },
    "kernelspec": {
      "display_name": "Python 3",
      "name": "python3"
    },
    "language_info": {
      "name": "python"
    }
  },
  "nbformat": 4,
  "nbformat_minor": 0
}