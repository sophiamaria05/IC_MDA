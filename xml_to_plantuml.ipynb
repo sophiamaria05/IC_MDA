{
  "nbformat": 4,
  "nbformat_minor": 0,
  "metadata": {
    "colab": {
      "provenance": [],
      "authorship_tag": "ABX9TyN+3Mq5d+aWZ51H0X1oUCuK",
      "include_colab_link": true
    },
    "kernelspec": {
      "name": "python3",
      "display_name": "Python 3"
    },
    "language_info": {
      "name": "python"
    }
  },
  "cells": [
    {
      "cell_type": "markdown",
      "metadata": {
        "id": "view-in-github",
        "colab_type": "text"
      },
      "source": [
        "<a href=\"https://colab.research.google.com/github/sophiamaria05/IC_MDA/blob/main/xml_to_plantuml.ipynb\" target=\"_parent\"><img src=\"https://colab.research.google.com/assets/colab-badge.svg\" alt=\"Open In Colab\"/></a>"
      ]
    },
    {
      "cell_type": "markdown",
      "source": [
        "#Preparing"
      ],
      "metadata": {
        "id": "Ff2NdApxAi5-"
      }
    },
    {
      "cell_type": "code",
      "execution_count": null,
      "metadata": {
        "id": "LDLNJNngNA91"
      },
      "outputs": [],
      "source": [
        "#@title Defines break and tab for writing the puml file\n",
        "_break = \"\"\"\n",
        "\"\"\"\n",
        "_tab = '  '"
      ]
    },
    {
      "cell_type": "markdown",
      "source": [
        "##Importing libraries"
      ],
      "metadata": {
        "id": "NJp0nXQHAnMb"
      }
    },
    {
      "cell_type": "code",
      "source": [
        "#reading xml files\n",
        "import xml.etree.cElementTree as ET\n",
        "#importing files\n",
        "import os"
      ],
      "metadata": {
        "id": "nzpdqBMZRPzH"
      },
      "execution_count": null,
      "outputs": []
    },
    {
      "cell_type": "markdown",
      "source": [
        "##Defining methods"
      ],
      "metadata": {
        "id": "Sozt2sBDArg9"
      }
    },
    {
      "cell_type": "code",
      "source": [
        "#@title ***get_xml_files(xml_file_folder):*** Geting the xml files (of the phrases)\n",
        "def get_xml_files(xml_file_folder):\n",
        "  return [file for file in os.listdir(xml_file_folder) if file.endswith('.xml')]"
      ],
      "metadata": {
        "id": "D2_bsmOyndv9"
      },
      "execution_count": null,
      "outputs": []
    },
    {
      "cell_type": "code",
      "source": [
        "#@title ***tag_to_array(tag):*** Converts phrase's ***type*** to array to make checking each part of the tag easier\n",
        "def tag_to_array(tag):\n",
        "  tag_array = [int(tag_part) for tag_part in tag.split(\".\")]\n",
        "  while len(tag_array) < 3:\n",
        "    tag_array.append(0)\n",
        "  return tag_array"
      ],
      "metadata": {
        "id": "2LZP8J_6fuWP"
      },
      "execution_count": null,
      "outputs": []
    },
    {
      "cell_type": "code",
      "source": [
        "#@title ***get_classes_and_methods(root_xml):*** Creates a dictionary with the classes and it's methods\n",
        "def get_classes_and_methods(root_xml):\n",
        "  classes_and_methods = {}\n",
        "  associations = {}#                                                                                              ASSOCIATION TEST *****\n",
        "  for use_case in root_xml:\n",
        "    for flow in use_case:\n",
        "      inputs = []\n",
        "      for phrase in flow:\n",
        "        nodes = [node.text for node in phrase.iter()]\n",
        "        tag = tag_to_array(phrase.get(\"type\"))\n",
        "        if tag[0]==0:\n",
        "          inputs = []\n",
        "          continue\n",
        "        if tag[2]==1:#special case (informa and insere)\n",
        "          if (phrase.find(\"verb\").text==\"Informar\" or phrase.find(\"verb\").text==\"Informa\") and tag[1]==1:\n",
        "            nodes = [node.text for node in phrase.iter()]\n",
        "            nodes.pop(0)#pops the phrase.text\n",
        "            use_case_name = \"_\".join(use_case.text.split(\" \"))\n",
        "            method_name = \"Informa(msg)\"\n",
        "            try:\n",
        "              classes_and_methods[\"V_\"+use_case_name+\"  <<view>>\"].append(method_name)\n",
        "            except:\n",
        "              classes_and_methods[\"V_\"+use_case_name+\"  <<view>>\"]=[method_name]\n",
        "\n",
        "          elif (phrase.find(\"verb\").text==\"Inserir\" or phrase.find(\"verb\").text==\"Insere\"):# and tag[1]==1:#      INSERE TEST *****\n",
        "            nodes = [node.text for node in phrase.iter()]\n",
        "            nodes.pop(0)#pops the phrase.text\n",
        "            inputs = nodes[2:]\n",
        "\n",
        "            attributes = inputs\n",
        "            class_name = attributes.pop()\n",
        "            for attribute_name in attributes:\n",
        "              try:\n",
        "                classes_and_methods[class_name].append(attribute_name)\n",
        "              except:\n",
        "                classes_and_methods[class_name]=[attribute_name]\n",
        "\n",
        "        elif tag[1]==0:\n",
        "          use_case_name = \"_\".join(use_case.text.split(\" \"))\n",
        "          nodes = [node for node in phrase.iter()]\n",
        "          class_name = nodes[-1].text\n",
        "          method_name = (\"_\".join([phrase.find(\"verb\").text, phrase.find(\"object\").text]))\n",
        "\n",
        "          if inputs!=[]:#                                                                                         INSERE TEST *****\n",
        "            method_name+=(\"(\"+\",\".join(inputs))+\")\"\n",
        "            inputs = []\n",
        "          else:\n",
        "            method_name+=\"()\"\n",
        "\n",
        "          try:\n",
        "            classes_and_methods[\"V_\"+use_case_name+\"  <<view>>\"].append(method_name)\n",
        "          except:\n",
        "            classes_and_methods[\"V_\"+use_case_name+\"  <<view>>\"]=[method_name]\n",
        "          try:\n",
        "            classes_and_methods[\"C_\"+use_case_name+\"  <<controller>>\"].append(method_name)\n",
        "          except:\n",
        "            classes_and_methods[\"C_\"+use_case_name+\"  <<controller>>\"]=[method_name]\n",
        "\n",
        "          try:#                                                                                                 ASSOCIATION TEST *****\n",
        "            associations[\"C_\"+use_case_name].append(\"V_\"+use_case_name)\n",
        "          except:\n",
        "            associations[\"C_\"+use_case_name]=[\"V_\"+use_case_name]\n",
        "          if not (class_name in associations[\"C_\"+use_case_name]):\n",
        "            associations[\"C_\"+use_case_name].append(class_name)\n",
        "\n",
        "        else:\n",
        "          nodes = [node for node in phrase.iter()]\n",
        "          class_name = nodes[-1].text\n",
        "          method_name = (\"_\".join([phrase.find(\"verb\").text, phrase.find(\"object\").text]))\n",
        "\n",
        "          if inputs!=[]:#                                                                                       INSERE TEST *****\n",
        "            method_name+=(\"(\"+\",\".join(inputs))+\")\"\n",
        "            inputs = []\n",
        "          else:\n",
        "            method_name+=\"()\"\n",
        "\n",
        "          try:\n",
        "            classes_and_methods[class_name].append(method_name)\n",
        "          except:\n",
        "            classes_and_methods[class_name]=[method_name]\n",
        "  return classes_and_methods, associations"
      ],
      "metadata": {
        "id": "f3HLo5gHfQti"
      },
      "execution_count": null,
      "outputs": []
    },
    {
      "cell_type": "code",
      "source": [
        "#@title ***write_class_diagram(classes_and_methods):*** Writes the puml file using the classes dictionary created\n",
        "def write_class_diagram(classes_and_methods, associations):\n",
        "  plantuml = \"\"\"@startuml classDiagram\n",
        "\n",
        "  <style>\n",
        "      classDiagram{\n",
        "          class{\n",
        "              .view{\n",
        "                  BackgroundColor lightgreen\n",
        "              }\n",
        "          }\n",
        "      }\n",
        "  </style>\n",
        "  hide <<view>> stereotype\n",
        "  \"\"\"\n",
        "\n",
        "  for class_name in classes_and_methods:\n",
        "    plantuml += _break+\"class \"+class_name+\"{\"\n",
        "    for method in classes_and_methods[class_name]:\n",
        "      plantuml += _break+_tab+method\n",
        "    plantuml += _break+\"}\"+_break\n",
        "  plantuml += _break\n",
        "  for association in associations:#                                                                             ASSOCIATION TEST *****\n",
        "    for class_name in associations[association]:\n",
        "      plantuml += _break+association+\" -- \"+class_name+_break\n",
        "  plantuml += _break+\"@enduml\"\n",
        "  return plantuml"
      ],
      "metadata": {
        "id": "p5qHhr0m8A2E"
      },
      "execution_count": null,
      "outputs": []
    },
    {
      "cell_type": "markdown",
      "source": [
        "#Main method"
      ],
      "metadata": {
        "id": "QqNzmFgFAXw-"
      }
    },
    {
      "cell_type": "code",
      "source": [
        "#@title ***get_pumls(xml_file_folder)***\n",
        "def get_pumls(xml_file_folder):\n",
        "  pumls = []\n",
        "  i=0\n",
        "  for xml_file in get_xml_files(xml_file_folder):\n",
        "    print(\"xml_file: \", xml_file)\n",
        "    root_xml = ET.parse(xml_file).getroot()\n",
        "    print(\"root_xml: \", root_xml)\n",
        "    classes_and_methods, associations = get_classes_and_methods(root_xml)\n",
        "    print(\"classes_and_methods: \", classes_and_methods)\n",
        "    puml = write_class_diagram(classes_and_methods, associations)\n",
        "    print(\"\\n\")\n",
        "    if i==0:\n",
        "      puml_name = 'class_diagram.puml'\n",
        "    else:\n",
        "      puml_name = 'class_diagram('+ str(i) +').puml'\n",
        "    i+=1\n",
        "    with open(puml_name, 'w') as file:\n",
        "      file.write(puml)\n",
        "    pumls.append(puml)\n",
        "  return pumls"
      ],
      "metadata": {
        "id": "5cjv5r7S6Dta"
      },
      "execution_count": null,
      "outputs": []
    },
    {
      "cell_type": "markdown",
      "source": [
        "#Writing plantumls"
      ],
      "metadata": {
        "id": "5IP9mtyUASmM"
      }
    },
    {
      "cell_type": "code",
      "source": [
        "#@title Folder where the **xml files** of the phrases was uploaded\n",
        "xml_file_folder = '/content'"
      ],
      "metadata": {
        "id": "lLv6YzsJnekK"
      },
      "execution_count": null,
      "outputs": []
    },
    {
      "cell_type": "code",
      "source": [
        "#@title Genrerate and print the pumls\n",
        "i = 0\n",
        "for puml in get_pumls(xml_file_folder):\n",
        "  #print(\"Puml \"+str(i)+\":\")\n",
        "  i+=1\n",
        "  print(puml)\n",
        "  print(\"\\n\\n\\n\")"
      ],
      "metadata": {
        "colab": {
          "base_uri": "https://localhost:8080/"
        },
        "id": "GtIYmzLR_T_e",
        "outputId": "006f7709-a0f1-45bc-cd1e-f094b1fbb484"
      },
      "execution_count": null,
      "outputs": [
        {
          "output_type": "stream",
          "name": "stdout",
          "text": [
            "xml_file:  predicted_phrases_types (1).xml\n",
            "root_xml:  <Element 'root' at 0x787f0e178270>\n",
            "classes_and_methods:  {'V_Autenticação  <<view>>': ['Enviar_Acesso()'], 'C_Autenticação  <<controller>>': ['Enviar_Acesso()'], 'Acesso': ['Validar_Acesso()'], 'Produto': ['Nome', 'Validar_Produto()', 'Registrar_Produto()', 'Exibir_Produto()', 'Atualizar_Estoque()'], 'V_Cadastro_de_Produto  <<view>>': ['Enviar_Produto(Nome)'], 'C_Cadastro_de_Produto  <<controller>>': ['Enviar_Produto(Nome)'], 'Fabricante': ['Nome', 'Validar_Fabricante()', 'Registrar_Fabricante()'], 'V_Cadastro_do_Fabricante  <<view>>': ['Enviar_Fabricante(Nome)'], 'C_Cadastro_do_Fabricante  <<controller>>': ['Enviar_Fabricante(Nome)'], 'Grupo': ['Nome', 'Validar_Grupo()', 'Registrar_Grupo()', 'Validar_Grupo()'], 'V_Cadastro_de_Grupo  <<view>>': ['Enviar_Grupo(Nome)'], 'C_Cadastro_de_Grupo  <<controller>>': ['Enviar_Grupo(Nome)'], 'Subgrupo': ['Nome', 'Validar_Subgrupo()', 'Registrar_Subgrupo()'], 'V_Cadastro_de_Subrupo  <<view>>': ['Enviar_Subgrupo(Nome)'], 'C_Cadastro_de_Subrupo  <<controller>>': ['Enviar_Subgrupo(Nome)'], 'V_Lançamento_de_Vendas  <<view>>': ['Adicionar_Produto()'], 'C_Lançamento_de_Vendas  <<controller>>': ['Adicionar_Produto()'], 'Venda': ['Calcular_Valor()', 'Calcular_Quantidade()', 'Data', 'Registrar_Venda(Data)']}\n",
            "\n",
            "\n",
            "@startuml classDiagram\n",
            "\n",
            "  <style>\n",
            "      classDiagram{\n",
            "          class{\n",
            "              .view{\n",
            "                  BackgroundColor lightgreen\n",
            "              }\n",
            "          }\n",
            "      }\n",
            "  </style>\n",
            "  hide <<view>> stereotype\n",
            "  \n",
            "class V_Autenticação  <<view>>{\n",
            "  Enviar_Acesso()\n",
            "}\n",
            "\n",
            "class C_Autenticação  <<controller>>{\n",
            "  Enviar_Acesso()\n",
            "}\n",
            "\n",
            "class Acesso{\n",
            "  Validar_Acesso()\n",
            "}\n",
            "\n",
            "class Produto{\n",
            "  Nome\n",
            "  Validar_Produto()\n",
            "  Registrar_Produto()\n",
            "  Exibir_Produto()\n",
            "  Atualizar_Estoque()\n",
            "}\n",
            "\n",
            "class V_Cadastro_de_Produto  <<view>>{\n",
            "  Enviar_Produto(Nome)\n",
            "}\n",
            "\n",
            "class C_Cadastro_de_Produto  <<controller>>{\n",
            "  Enviar_Produto(Nome)\n",
            "}\n",
            "\n",
            "class Fabricante{\n",
            "  Nome\n",
            "  Validar_Fabricante()\n",
            "  Registrar_Fabricante()\n",
            "}\n",
            "\n",
            "class V_Cadastro_do_Fabricante  <<view>>{\n",
            "  Enviar_Fabricante(Nome)\n",
            "}\n",
            "\n",
            "class C_Cadastro_do_Fabricante  <<controller>>{\n",
            "  Enviar_Fabricante(Nome)\n",
            "}\n",
            "\n",
            "class Grupo{\n",
            "  Nome\n",
            "  Validar_Grupo()\n",
            "  Registrar_Grupo()\n",
            "  Validar_Grupo()\n",
            "}\n",
            "\n",
            "class V_Cadastro_de_Grupo  <<view>>{\n",
            "  Enviar_Grupo(Nome)\n",
            "}\n",
            "\n",
            "class C_Cadastro_de_Grupo  <<controller>>{\n",
            "  Enviar_Grupo(Nome)\n",
            "}\n",
            "\n",
            "class Subgrupo{\n",
            "  Nome\n",
            "  Validar_Subgrupo()\n",
            "  Registrar_Subgrupo()\n",
            "}\n",
            "\n",
            "class V_Cadastro_de_Subrupo  <<view>>{\n",
            "  Enviar_Subgrupo(Nome)\n",
            "}\n",
            "\n",
            "class C_Cadastro_de_Subrupo  <<controller>>{\n",
            "  Enviar_Subgrupo(Nome)\n",
            "}\n",
            "\n",
            "class V_Lançamento_de_Vendas  <<view>>{\n",
            "  Adicionar_Produto()\n",
            "}\n",
            "\n",
            "class C_Lançamento_de_Vendas  <<controller>>{\n",
            "  Adicionar_Produto()\n",
            "}\n",
            "\n",
            "class Venda{\n",
            "  Calcular_Valor()\n",
            "  Calcular_Quantidade()\n",
            "  Data\n",
            "  Registrar_Venda(Data)\n",
            "}\n",
            "\n",
            "\n",
            "C_Autenticação -- V_Autenticação\n",
            "\n",
            "C_Autenticação -- Acesso\n",
            "\n",
            "C_Cadastro_de_Produto -- V_Cadastro_de_Produto\n",
            "\n",
            "C_Cadastro_de_Produto -- Produto\n",
            "\n",
            "C_Cadastro_do_Fabricante -- V_Cadastro_do_Fabricante\n",
            "\n",
            "C_Cadastro_do_Fabricante -- Fabricante\n",
            "\n",
            "C_Cadastro_de_Grupo -- V_Cadastro_de_Grupo\n",
            "\n",
            "C_Cadastro_de_Grupo -- Grupo\n",
            "\n",
            "C_Cadastro_de_Subrupo -- V_Cadastro_de_Subrupo\n",
            "\n",
            "C_Cadastro_de_Subrupo -- Subgrupo\n",
            "\n",
            "C_Lançamento_de_Vendas -- V_Lançamento_de_Vendas\n",
            "\n",
            "C_Lançamento_de_Vendas -- Produto\n",
            "\n",
            "@enduml\n",
            "\n",
            "\n",
            "\n",
            "\n"
          ]
        }
      ]
    }
  ]
}