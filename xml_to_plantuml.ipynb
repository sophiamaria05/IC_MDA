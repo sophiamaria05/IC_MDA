{
  "nbformat": 4,
  "nbformat_minor": 0,
  "metadata": {
    "colab": {
      "provenance": [],
      "authorship_tag": "ABX9TyOh1Sxh5DhBGOI9RBGGnMr0",
      "include_colab_link": true
    },
    "kernelspec": {
      "name": "python3",
      "display_name": "Python 3"
    },
    "language_info": {
      "name": "python"
    }
  },
  "cells": [
    {
      "cell_type": "markdown",
      "metadata": {
        "id": "view-in-github",
        "colab_type": "text"
      },
      "source": [
        "<a href=\"https://colab.research.google.com/github/sophiamaria05/IC_MDA/blob/main/xml_to_plantuml.ipynb\" target=\"_parent\"><img src=\"https://colab.research.google.com/assets/colab-badge.svg\" alt=\"Open In Colab\"/></a>"
      ]
    },
    {
      "cell_type": "markdown",
      "source": [
        "#Preparing"
      ],
      "metadata": {
        "id": "Ff2NdApxAi5-"
      }
    },
    {
      "cell_type": "code",
      "execution_count": null,
      "metadata": {
        "id": "LDLNJNngNA91"
      },
      "outputs": [],
      "source": [
        "#@title Defines break and tab for writing the puml file\n",
        "_break = \"\"\"\n",
        "\"\"\"\n",
        "_tab = '  '"
      ]
    },
    {
      "cell_type": "markdown",
      "source": [
        "##Importing libraries"
      ],
      "metadata": {
        "id": "NJp0nXQHAnMb"
      }
    },
    {
      "cell_type": "code",
      "source": [
        "#reading xml files\n",
        "import xml.etree.cElementTree as ET\n",
        "#importing files\n",
        "import os"
      ],
      "metadata": {
        "id": "nzpdqBMZRPzH"
      },
      "execution_count": null,
      "outputs": []
    },
    {
      "cell_type": "markdown",
      "source": [
        "##Defining methods"
      ],
      "metadata": {
        "id": "Sozt2sBDArg9"
      }
    },
    {
      "cell_type": "code",
      "source": [
        "#@title ***get_xml_files(xml_file_folder):*** Geting the xml files (of the predicted phrases)\n",
        "def get_xml_files(xml_file_folder):\n",
        "  \"\"\"\n",
        "    Gets the folder path where the xml file with predicted phrases.\n",
        "    Returns a List[xml_files].\n",
        "  \"\"\"\n",
        "  return [file for file in os.listdir(xml_file_folder) if file.endswith('.xml')]"
      ],
      "metadata": {
        "id": "D2_bsmOyndv9"
      },
      "execution_count": null,
      "outputs": []
    },
    {
      "cell_type": "code",
      "source": [
        "#@title ***tag_to_array(tag):*** Converts phrase's ***type*** to array to make checking each part of the tag easier\n",
        "def tag_to_array(tag):\n",
        "  tag_array = [int(tag_part) for tag_part in tag.split(\".\")]#gets each part of the phrase's type and saves it into tag_array\n",
        "  while len(tag_array) < 3:#if the type is 0 or 0.1 it appends 0s to the tag for the type of noun and reserved verb check\n",
        "    tag_array.append(0)\n",
        "  return tag_array#returs the array of the particioned type tag"
      ],
      "metadata": {
        "id": "2LZP8J_6fuWP"
      },
      "execution_count": null,
      "outputs": []
    },
    {
      "cell_type": "code",
      "source": [
        "#@title ***get_classes_and_associations(root_xml):*** Creates two dictionaries with the classes and it's methods, attributes and associations.\n",
        "def get_classes_and_associations(root_xml):\n",
        "  \"\"\"\n",
        "    get_classes_and_associations(root_xml) -> [methods_and_attributes, associations]\n",
        "\n",
        "    Creates two dictionaries of the classes, one with it's methods and attributes, and the other with it's associations.\n",
        "\n",
        "    Args:\n",
        "      root_xml: The predicted xml root.\n",
        "\n",
        "    Returns:\n",
        "      A Tuple of two dictionaries.\n",
        "\n",
        "        methods_and_attributes: {class: [methods, attributes]}\n",
        "          A dictionary with the classes and it's methods and attributes.\n",
        "\n",
        "        associations: {class: [classes_associated]}\n",
        "          A dictionary with the classes and it's associations.\n",
        "  \"\"\"\n",
        "  # Defines the directories:\n",
        "  methods_and_attributes = {}# For the methods and attributes of each class\n",
        "  associations = {}# For the associations bettween classes\n",
        "\n",
        "  for use_case in root_xml:\n",
        "    for flow in use_case:#  Goes through each use case in the xml file\n",
        "\n",
        "      use_case_name = \"_\".join(use_case.text.split(\" \"))\n",
        "      inputs = []#  List of inputs for the \"Insere\" case\n",
        "\n",
        "      for phrase in flow:# Goes through each phrase of the main flow and the alternatives flows\n",
        "        nodes = [node.text for node in phrase.iter()]\n",
        "\n",
        "        while None in nodes:# Removes all Nones from the phrase nodes\n",
        "          nodes.pop(nodes.index(None))\n",
        "\n",
        "        if phrase.text in nodes:# If text of the whole phrase is in the nodes array\n",
        "          nodes.pop(nodes.index(phrase.text))# Pops the phrase.text\n",
        "\n",
        "        tag = tag_to_array(phrase.get(\"type\"))# Converts the type tag to array for easier manipulation\n",
        "\n",
        "        if tag[0]==0:# If invalid phrase type\n",
        "          inputs = []# Cleans the inputs so it doesnt get carried\n",
        "          continue\n",
        "\n",
        "\n",
        "        try:# Gets the text of the last node for the name of the class\n",
        "          class_name = nodes[-1].text\n",
        "        except Exception as e:\n",
        "          class_name = nodes[-1]\n",
        "\n",
        "\n",
        "        if tag[2]==1:#  Special cases: \"informa\"(inform) and \"insere\"(insert)\n",
        "          if (phrase.find(\"verb\").text==\"Informar\" or phrase.find(\"verb\").text==\"Informa\") and tag[1]==1:# Inform case\n",
        "            method_name = \"Informa(msg)\"\n",
        "            try:\n",
        "              methods_and_attributes[\"V_\"+use_case_name+\"  <<view>>\"].append(method_name)# Appends the name of the method to the dict of the use case view class\n",
        "            except:# Excepts when the use case view class wasn't already created\n",
        "              methods_and_attributes[\"V_\"+use_case_name+\"  <<view>>\"]=[method_name]# And defines the Informa(msg) as the first method of the class\n",
        "\n",
        "          elif (phrase.find(\"verb\").text==\"Inserir\" or phrase.find(\"verb\").text==\"Insere\"):# Insert case\n",
        "            inputs = nodes[2:]# Gets all words of the phrase except for the noun and verb\n",
        "\n",
        "            attributes = inputs\n",
        "            for attribute_name in attributes:#Inserts all the atributes                   ***\n",
        "              try:\n",
        "                methods_and_attributes[class_name].append(attribute_name)\n",
        "              except:\n",
        "                methods_and_attributes[class_name]=[attribute_name]\n",
        "\n",
        "\n",
        "        elif tag[1]==0:#  Noun is DIFFERENT from System\n",
        "          method_name = (\"_\".join([phrase.find(\"verb\").text, phrase.find(\"object\").text]))# Gets the name of the method as verb_object\n",
        "\n",
        "          if inputs!=[]:# If there are pending inputs from the last Insere case\n",
        "            method_name+=(\"(\"+\",\".join(inputs))+\")\"# Inserts that inputs as parameters on this method\n",
        "            inputs = []\n",
        "          else:\n",
        "            method_name+=\"()\"\n",
        "\n",
        "          try:\n",
        "            methods_and_attributes[\"V_\"+use_case_name+\"  <<view>>\"].append(method_name)# Appends the name of the method to the dict of the use case view class\n",
        "          except:# Excepts when the use case view class wasn't already created\n",
        "            methods_and_attributes[\"V_\"+use_case_name+\"  <<view>>\"]=[method_name]# And defines this method as the first one of the class\n",
        "          try:#Does the same for the use case controller class\n",
        "            methods_and_attributes[\"C_\"+use_case_name+\"  <<controller>>\"].append(method_name)\n",
        "          except:\n",
        "            methods_and_attributes[\"C_\"+use_case_name+\"  <<controller>>\"]=[method_name]\n",
        "\n",
        "          try:#                                                                                                 ASSOCIATION TEST *****\n",
        "            associations[\"C_\"+use_case_name].append(\"V_\"+use_case_name)\n",
        "          except:\n",
        "            associations[\"C_\"+use_case_name]=[\"V_\"+use_case_name]\n",
        "          if not (class_name in associations[\"C_\"+use_case_name]):\n",
        "            associations[\"C_\"+use_case_name].append(class_name)\n",
        "\n",
        "\n",
        "        else:#  Noun is System\n",
        "          method_name = (\"_\".join([phrase.find(\"verb\").text, phrase.find(\"object\").text]))# Gets the name of the method as verb_object\n",
        "\n",
        "          if inputs!=[]:#                                                                                       INSERE TEST *****\n",
        "            method_name+=(\"(\"+\",\".join(inputs))+\")\"\n",
        "            inputs = []\n",
        "          else:\n",
        "            method_name+=\"()\"\n",
        "\n",
        "          try:\n",
        "            methods_and_attributes[class_name].append(method_name)\n",
        "          except:\n",
        "            methods_and_attributes[class_name]=[method_name]\n",
        "  return methods_and_attributes, associations"
      ],
      "metadata": {
        "id": "f3HLo5gHfQti"
      },
      "execution_count": null,
      "outputs": []
    },
    {
      "cell_type": "code",
      "source": [
        "#@title ***write_class_diagram(classes_and_methods):*** Writes the puml file using the classes dictionary created\n",
        "def write_class_diagram(classes_and_methods, associations):\n",
        "  plantuml = \"\"\"@startuml classDiagram\n",
        "\n",
        "  <style>\n",
        "      classDiagram{\n",
        "          class{\n",
        "              .view{\n",
        "                  BackgroundColor lightgreen\n",
        "              }\n",
        "          }\n",
        "      }\n",
        "  </style>\n",
        "  hide <<view>> stereotype\n",
        "  \"\"\"\n",
        "\n",
        "  for class_name in classes_and_methods:\n",
        "    plantuml += _break+\"class \"+class_name+\"{\"\n",
        "    for method in classes_and_methods[class_name]:\n",
        "      plantuml += _break+_tab+method\n",
        "    plantuml += _break+\"}\"+_break\n",
        "  plantuml += _break\n",
        "  for association in associations:#                                                                             ASSOCIATION TEST *****\n",
        "    for class_name in associations[association]:\n",
        "      plantuml += _break+association+\" -- \"+class_name+_break\n",
        "  plantuml += _break+\"@enduml\"\n",
        "  return plantuml"
      ],
      "metadata": {
        "id": "p5qHhr0m8A2E"
      },
      "execution_count": null,
      "outputs": []
    },
    {
      "cell_type": "code",
      "source": [
        "#@title ***name_file(save_folder, xml_file):*** Defines the name of the written file\n",
        "def name_file(save_folder, xml_file):\n",
        "  if '.xml' == xml_file[-4:]:\n",
        "    xml_file = xml_file[:-4]\n",
        "  if \"predicted_phrases_types (\" == xml_file[:19] and \")\" == xml_file[-1:]:\n",
        "    return save_folder+'class_diagram ('+xml_file[19:-1]+')'\n",
        "  else:\n",
        "    return save_folder+'class_diagram ('+xml_file+')'"
      ],
      "metadata": {
        "id": "PGC-iKdJneJa"
      },
      "execution_count": null,
      "outputs": []
    },
    {
      "cell_type": "markdown",
      "source": [
        "#Main method"
      ],
      "metadata": {
        "id": "QqNzmFgFAXw-"
      }
    },
    {
      "cell_type": "code",
      "source": [
        "#@title ***get_pumls(xml_file_folder)***\n",
        "def get_pumls(xml_file_folder, save_folder):\n",
        "  pumls = []\n",
        "  i=0\n",
        "  for xml_file in get_xml_files(xml_file_folder):\n",
        "    print(\"xml_file: \", xml_file_folder+xml_file)\n",
        "    root_xml = ET.parse(xml_file_folder+xml_file).getroot()\n",
        "    print(\"root_xml: \", root_xml)\n",
        "    classes_and_methods, associations = get_classes_and_associations(root_xml)\n",
        "    print(\"classes_and_methods: \", classes_and_methods)\n",
        "    puml = write_class_diagram(classes_and_methods, associations)\n",
        "    print(\"\\n\")\n",
        "    puml_name = name_file(save_folder, xml_file)\n",
        "    if i==0:\n",
        "      puml_name += '.puml'\n",
        "    else:\n",
        "      puml_name += '('+ str(i) +').puml'\n",
        "    i+=1\n",
        "    with open(puml_name, 'w') as file:\n",
        "      file.write(puml)\n",
        "    pumls.append(puml)\n",
        "  return pumls"
      ],
      "metadata": {
        "id": "5cjv5r7S6Dta"
      },
      "execution_count": null,
      "outputs": []
    },
    {
      "cell_type": "markdown",
      "source": [
        "#Writing plantumls"
      ],
      "metadata": {
        "id": "5IP9mtyUASmM"
      }
    },
    {
      "cell_type": "code",
      "source": [
        "#@title Folder where the **xml files** of the phrases was uploaded\n",
        "xml_file_folder = os.environ.get(\"PREDICTED_XML_DIR\")\n",
        "if xml_file_folder == None or xml_file_folder == \"\":\n",
        "  xml_file_folder = \"/content/\""
      ],
      "metadata": {
        "id": "lLv6YzsJnekK"
      },
      "execution_count": null,
      "outputs": []
    },
    {
      "cell_type": "code",
      "source": [
        "#@title Folder where the **puml files** are going to be saved\n",
        "save_folder = os.environ.get(\"PUML_XML_DIR\")\n",
        "if save_folder == None or save_folder == \"\":\n",
        "  save_folder = \"/content/puml_files/\"\n",
        "os.makedirs(save_folder, exist_ok=True)"
      ],
      "metadata": {
        "id": "ltpzyVrFdUOh"
      },
      "execution_count": null,
      "outputs": []
    },
    {
      "cell_type": "code",
      "source": [
        "#@title Genrerate and print the pumls\n",
        "i = 0\n",
        "for puml in get_pumls(xml_file_folder, save_folder):\n",
        "  #print(\"Puml \"+str(i)+\":\")\n",
        "  i+=1\n",
        "  print(puml)\n",
        "  print(\"\\n\\n\\n\")"
      ],
      "metadata": {
        "colab": {
          "base_uri": "https://localhost:8080/"
        },
        "id": "GtIYmzLR_T_e",
        "outputId": "ef6edeef-1e01-47ae-e767-0a3a7a0b62aa"
      },
      "execution_count": null,
      "outputs": [
        {
          "output_type": "stream",
          "name": "stdout",
          "text": [
            "xml_file:  /content/predicted_phrases_types (arquivo (3)).xml\n",
            "root_xml:  <Element 'root' at 0x7edd62be21b0>\n",
            "classes_and_methods:  {'Cliente': ['Exibir_Cliente()', 'Verificar_Existencia()', 'Salvar_Cliente()'], 'V_Vizualizar_Cliente  <<view>>': ['Selecionar_Cliente()'], 'C_Vizualizar_Cliente  <<controller>>': ['Selecionar_Cliente()'], 'V_Cadastrar_Cliente  <<view>>': ['Selecionar_Cliente()', 'Informa(msg)', 'Informa(msg)'], 'C_Cadastrar_Cliente  <<controller>>': ['Selecionar_Cliente()'], 'Nome': ['Nome']}\n",
            "\n",
            "\n",
            "@startuml classDiagram\n",
            "\n",
            "  <style>\n",
            "      classDiagram{\n",
            "          class{\n",
            "              .view{\n",
            "                  BackgroundColor lightgreen\n",
            "              }\n",
            "          }\n",
            "      }\n",
            "  </style>\n",
            "  hide <<view>> stereotype\n",
            "  \n",
            "class Cliente{\n",
            "  Exibir_Cliente()\n",
            "  Verificar_Existencia()\n",
            "  Salvar_Cliente()\n",
            "}\n",
            "\n",
            "class V_Vizualizar_Cliente  <<view>>{\n",
            "  Selecionar_Cliente()\n",
            "}\n",
            "\n",
            "class C_Vizualizar_Cliente  <<controller>>{\n",
            "  Selecionar_Cliente()\n",
            "}\n",
            "\n",
            "class V_Cadastrar_Cliente  <<view>>{\n",
            "  Selecionar_Cliente()\n",
            "  Informa(msg)\n",
            "  Informa(msg)\n",
            "}\n",
            "\n",
            "class C_Cadastrar_Cliente  <<controller>>{\n",
            "  Selecionar_Cliente()\n",
            "}\n",
            "\n",
            "class Nome{\n",
            "  Nome\n",
            "}\n",
            "\n",
            "\n",
            "C_Vizualizar_Cliente -- V_Vizualizar_Cliente\n",
            "\n",
            "C_Vizualizar_Cliente -- Cliente\n",
            "\n",
            "C_Cadastrar_Cliente -- V_Cadastrar_Cliente\n",
            "\n",
            "C_Cadastrar_Cliente -- Cliente\n",
            "\n",
            "@enduml\n",
            "\n",
            "\n",
            "\n",
            "\n"
          ]
        }
      ]
    }
  ]
}